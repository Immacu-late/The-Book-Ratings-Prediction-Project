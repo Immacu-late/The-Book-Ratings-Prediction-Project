{
 "cells": [
  {
   "cell_type": "markdown",
   "id": "9e210e61",
   "metadata": {},
   "source": [
    "# Feature Selection, Data Preprocessing, and ML Model Fitting"
   ]
  },
  {
   "cell_type": "markdown",
   "id": "99d6f163",
   "metadata": {},
   "source": [
    "### Importing Libraries"
   ]
  },
  {
   "cell_type": "code",
   "execution_count": 1,
   "id": "39d3c5a4",
   "metadata": {},
   "outputs": [],
   "source": [
    "import pandas as pd\n",
    "import numpy as np\n",
    "from datetime import datetime, timedelta\n",
    "import matplotlib.pyplot as plt\n",
    "plt.style.use('fast')\n",
    "\n",
    "from sklearn.preprocessing import MultiLabelBinarizer, OneHotEncoder\n",
    "from sklearn.model_selection import train_test_split\n",
    "from sklearn.linear_model import LinearRegression\n",
    "from sklearn.tree import DecisionTreeRegressor\n",
    "from sklearn.neighbors import KNeighborsRegressor\n",
    "from sklearn.ensemble import GradientBoostingRegressor, AdaBoostRegressor\n",
    "from sklearn.svm import LinearSVR, SVR\n",
    "\n",
    "from sklearn.model_selection import KFold, GridSearchCV, train_test_split\n",
    "from sklearn.preprocessing import StandardScaler, LabelEncoder, PolynomialFeatures\n",
    "from sklearn.metrics import r2_score,mean_squared_error \n",
    "\n"
   ]
  },
  {
   "cell_type": "markdown",
   "id": "57f80f74",
   "metadata": {},
   "source": [
    "### Data Importation and Cleansing"
   ]
  },
  {
   "cell_type": "code",
   "execution_count": 2,
   "id": "63bb308d",
   "metadata": {},
   "outputs": [
    {
     "name": "stderr",
     "output_type": "stream",
     "text": [
      "b'Skipping line 3350: expected 12 fields, saw 13\\nSkipping line 4704: expected 12 fields, saw 13\\nSkipping line 5879: expected 12 fields, saw 13\\nSkipping line 8981: expected 12 fields, saw 13\\n'\n"
     ]
    }
   ],
   "source": [
    "# Read Data In\n",
    "try: \n",
    "    books_df = pd.read_csv('books.csv')\n",
    "except:\n",
    "    books_df = pd.read_csv('books.csv', on_bad_lines='warn')\n",
    "    \n",
    "#remove leading spaces in front of num_paages\n",
    "books_df.rename(columns={\"  num_pages\":\"num_pages\"}, inplace=True)\n",
    "\n",
    "#Convert publication date to date object\n",
    "books_df['publication_date'] = pd.to_datetime(books_df['publication_date'], format = \"%m/%d/%Y\", errors='coerce')\n",
    "\n",
    "\n",
    "#convert isbn_13 to type object\n",
    "books_df['isbn13'] =books_df['isbn13'].astype('object')\n",
    "\n",
    "#convert book_id to type object\n",
    "books_df['bookID'] = books_df['bookID'].astype('object')\n",
    "\n",
    "# Split the authors column into a list of individual author names\n",
    "books_df['authors'] = books_df['authors'].str.split('/')\n",
    "\n",
    "\n",
    "# Drop the 2 cases where publication date is missing\n",
    "books_df = books_df.loc[~books_df.publication_date.isna()]\n"
   ]
  },
  {
   "cell_type": "markdown",
   "id": "c5c58cc5",
   "metadata": {},
   "source": [
    "### Feature Engineering and Selection\n"
   ]
  },
  {
   "cell_type": "markdown",
   "id": "6e64099a",
   "metadata": {},
   "source": [
    "#### Feature Engineering\n",
    "\n",
    "1. We create 2 features related to the publication date; year and month.\n",
    "2. From the insight that some book titles appear multiple times, a occurrences count feature is created.\n",
    "3. Title word count."
   ]
  },
  {
   "cell_type": "code",
   "execution_count": 3,
   "id": "d576209d",
   "metadata": {},
   "outputs": [],
   "source": [
    "# Month of publication feature\n",
    "books_df['pub_month'] = pd.DatetimeIndex(books_df.publication_date).month\n",
    "\n",
    "# Year of Publication feature\n",
    "books_df['pub_year'] = pd.DatetimeIndex(books_df.publication_date).year\n",
    "\n",
    "\n",
    "# feature which has the number of occurences of each title\n",
    "books_df['occ_count'] = books_df.groupby('title')['title'].transform('count') \n",
    "\n",
    "# Title Word Count\n",
    "books_df['title_word_count'] = (books_df['title'].str.split(\" \")).map(lambda w: len(w))\n",
    "\n",
    "\n",
    "# Create count of authors for each book\n",
    "books_df['author_count'] = books_df['authors'].map(lambda a: len(a))\n",
    "\n"
   ]
  },
  {
   "cell_type": "markdown",
   "id": "5aba0432",
   "metadata": {},
   "source": [
    "#### Feature Encoding\n",
    "\n",
    "Authors and publishers that have published more than 5 books are one-hot encoded, as well as the language codes."
   ]
  },
  {
   "cell_type": "code",
   "execution_count": 4,
   "id": "f681564a",
   "metadata": {},
   "outputs": [
    {
     "name": "stderr",
     "output_type": "stream",
     "text": [
      "/Users/gbolahanomotosho/opt/anaconda3/lib/python3.9/site-packages/sklearn/utils/deprecation.py:87: FutureWarning: Function get_feature_names is deprecated; get_feature_names is deprecated in 1.0 and will be removed in 1.2. Please use get_feature_names_out instead.\n",
      "  warnings.warn(msg, category=FutureWarning)\n",
      "/Users/gbolahanomotosho/opt/anaconda3/lib/python3.9/site-packages/sklearn/utils/deprecation.py:87: FutureWarning: Function get_feature_names is deprecated; get_feature_names is deprecated in 1.0 and will be removed in 1.2. Please use get_feature_names_out instead.\n",
      "  warnings.warn(msg, category=FutureWarning)\n"
     ]
    }
   ],
   "source": [
    "# Get authors that have written or contributed to more than 5 books\n",
    "exploded_authors = books_df.explode('authors')['authors']\n",
    "multiple_book_authors = exploded_authors.value_counts()[exploded_authors.value_counts() > 5].index.array\n",
    "\n",
    "#One-hot encode Authors with more than 5 books\n",
    "mlb = MultiLabelBinarizer()\n",
    "authors_onehot_df = pd.DataFrame(mlb.fit_transform(books_df['authors']),columns=mlb.classes_)\n",
    "authors_onehot_df = authors_onehot_df[multiple_book_authors]\n",
    "books_df = pd.concat([books_df, authors_onehot_df], axis=1 )\n",
    "books_df.drop(columns=['authors'], inplace=True)\n",
    "\n",
    "\n",
    "\n",
    "\n",
    "#One-hot encode publishers with more than 5 books\n",
    "publisher_book_counts = books_df['publisher'].value_counts()\n",
    "multiple_book_publishers = publisher_book_counts[publisher_book_counts > 5].index.array\n",
    "multiple_book_publishers = \"publisher_\" + multiple_book_publishers\n",
    "\n",
    "encoder = OneHotEncoder(handle_unknown='ignore')\n",
    "publisher_onehot = encoder.fit_transform(books_df[['publisher']])\n",
    "publisher_onehot_df = pd.DataFrame(publisher_onehot.toarray(), columns=encoder.get_feature_names(['publisher']))\n",
    "\n",
    "#Select only columns where publisher has more than 3 books\n",
    "publisher_onehot_df = publisher_onehot_df[multiple_book_publishers]\n",
    "\n",
    "# Concatenate the one-hot encoding dataframe with the original dataframe\n",
    "books_df = pd.concat([books_df, publisher_onehot_df], axis=1)\n",
    "\n",
    "# Drop the original publisher column\n",
    "books_df.drop(columns=['publisher'], inplace=True)\n",
    "\n",
    "\n",
    "\n",
    "\n",
    "#one-hot encode language code\n",
    "language_code_onehot = encoder.fit_transform(books_df[['language_code']])\n",
    "language_code_onehot_df = pd.DataFrame(language_code_onehot.toarray(), columns=encoder.get_feature_names(['language_code']))\n",
    "\n",
    "# Concatenate the one-hot encoding dataframe with the original dataframe\n",
    "books_df = pd.concat([books_df, language_code_onehot_df], axis=1)\n",
    "\n",
    "# Drop the original language code column\n",
    "books_df.drop(columns=['language_code'], inplace=True)\n"
   ]
  },
  {
   "cell_type": "code",
   "execution_count": 5,
   "id": "26b4e434",
   "metadata": {},
   "outputs": [],
   "source": [
    "books_df.dropna(inplace=True)"
   ]
  },
  {
   "cell_type": "markdown",
   "id": "05dedcc3",
   "metadata": {},
   "source": [
    "#### Feature Selection\n",
    "\n",
    "`bookId`, `title`, `isbn`, and `isbn13` are dropped because they do not add any predictive power to any model by their very definition. Two features that fit into ML models have been dervied from `publication_date`, so it is also dropped. This leaves us with the following variables;\n",
    "\n",
    "1. **num_pages**: From the exploratory analysis, we established that there was a positive relationship between the number of pages in a book and it's average rating, though not entirely linear.\n",
    "\n",
    "2. **ratings_count and text_reviews**: We also established a similar relationship to that of `num_pages` and `average_rating` between `ratings_count` and `average_rating`. Similary for `text_reviews` as well.\n",
    "\n",
    "3. **pub_month and pub_year**: These were derived from publication date, and we established from the exploratory analysis that it possesses predictive power due to how average ratings vary with publication date.\n",
    "\n",
    "4. **title_word_count**: From the EDA, this appears to have some predictive power.\n",
    "\n",
    "5. **author_count**:  From the EDA, this appears to have some predictive power.\n",
    "\n",
    "6. **author(s)**: We expect that authors of great titles would continue to create other great titles. As opposed to one variable, this has been one-hot encoded creating a column for each author (who has contributed to at least 5 books)\n",
    "\n",
    "7. **language_code**: We also established that the language code appears to have some predictive power w.r.t average_ratings. \n",
    "\n",
    "8. **publisher**:The rationale behind this is that top publishers have stricter criteria for publishing a book, hence a higer quality book, with the reverse also being the case for lower quality books."
   ]
  },
  {
   "cell_type": "code",
   "execution_count": 6,
   "id": "7512b80d",
   "metadata": {},
   "outputs": [],
   "source": [
    "label = books_df['average_rating'].values\n",
    "books_df.drop(['bookID', 'title', 'isbn', 'isbn13', 'average_rating','publication_date'], axis=1, inplace=True)"
   ]
  },
  {
   "cell_type": "markdown",
   "id": "606f0115",
   "metadata": {},
   "source": [
    "### Split data into Training, Test, and Validation Sets"
   ]
  },
  {
   "cell_type": "code",
   "execution_count": 7,
   "id": "d310d10c",
   "metadata": {},
   "outputs": [
    {
     "data": {
      "text/html": [
       "<div>\n",
       "<style scoped>\n",
       "    .dataframe tbody tr th:only-of-type {\n",
       "        vertical-align: middle;\n",
       "    }\n",
       "\n",
       "    .dataframe tbody tr th {\n",
       "        vertical-align: top;\n",
       "    }\n",
       "\n",
       "    .dataframe thead th {\n",
       "        text-align: right;\n",
       "    }\n",
       "</style>\n",
       "<table border=\"1\" class=\"dataframe\">\n",
       "  <thead>\n",
       "    <tr style=\"text-align: right;\">\n",
       "      <th></th>\n",
       "      <th>num_pages</th>\n",
       "      <th>ratings_count</th>\n",
       "      <th>text_reviews_count</th>\n",
       "      <th>pub_month</th>\n",
       "      <th>pub_year</th>\n",
       "      <th>occ_count</th>\n",
       "      <th>title_word_count</th>\n",
       "      <th>author_count</th>\n",
       "      <th>Stephen King</th>\n",
       "      <th>William Shakespeare</th>\n",
       "      <th>...</th>\n",
       "      <th>language_code_nor</th>\n",
       "      <th>language_code_por</th>\n",
       "      <th>language_code_rus</th>\n",
       "      <th>language_code_spa</th>\n",
       "      <th>language_code_srp</th>\n",
       "      <th>language_code_swe</th>\n",
       "      <th>language_code_tur</th>\n",
       "      <th>language_code_wel</th>\n",
       "      <th>language_code_zho</th>\n",
       "      <th>language_code_nan</th>\n",
       "    </tr>\n",
       "  </thead>\n",
       "  <tbody>\n",
       "    <tr>\n",
       "      <th>count</th>\n",
       "      <td>11119.000000</td>\n",
       "      <td>1.111900e+04</td>\n",
       "      <td>11119.000000</td>\n",
       "      <td>11119.000000</td>\n",
       "      <td>11119.00000</td>\n",
       "      <td>11119.000000</td>\n",
       "      <td>11119.000000</td>\n",
       "      <td>11119.000000</td>\n",
       "      <td>11119.000000</td>\n",
       "      <td>11119.000000</td>\n",
       "      <td>...</td>\n",
       "      <td>11119.000000</td>\n",
       "      <td>11119.000000</td>\n",
       "      <td>11119.000000</td>\n",
       "      <td>11119.000000</td>\n",
       "      <td>11119.000000</td>\n",
       "      <td>11119.000000</td>\n",
       "      <td>11119.000000</td>\n",
       "      <td>11119.000000</td>\n",
       "      <td>11119.000000</td>\n",
       "      <td>11119.0</td>\n",
       "    </tr>\n",
       "    <tr>\n",
       "      <th>mean</th>\n",
       "      <td>336.340948</td>\n",
       "      <td>1.794827e+04</td>\n",
       "      <td>542.202806</td>\n",
       "      <td>6.548071</td>\n",
       "      <td>2000.16953</td>\n",
       "      <td>1.241389</td>\n",
       "      <td>6.291033</td>\n",
       "      <td>1.729652</td>\n",
       "      <td>0.008904</td>\n",
       "      <td>0.008364</td>\n",
       "      <td>...</td>\n",
       "      <td>0.000090</td>\n",
       "      <td>0.000899</td>\n",
       "      <td>0.000180</td>\n",
       "      <td>0.019606</td>\n",
       "      <td>0.000090</td>\n",
       "      <td>0.000180</td>\n",
       "      <td>0.000090</td>\n",
       "      <td>0.000090</td>\n",
       "      <td>0.001259</td>\n",
       "      <td>0.0</td>\n",
       "    </tr>\n",
       "    <tr>\n",
       "      <th>std</th>\n",
       "      <td>241.149105</td>\n",
       "      <td>1.125190e+05</td>\n",
       "      <td>2577.069155</td>\n",
       "      <td>3.413992</td>\n",
       "      <td>8.24647</td>\n",
       "      <td>0.875200</td>\n",
       "      <td>4.168128</td>\n",
       "      <td>1.820397</td>\n",
       "      <td>0.093943</td>\n",
       "      <td>0.091076</td>\n",
       "      <td>...</td>\n",
       "      <td>0.009483</td>\n",
       "      <td>0.029977</td>\n",
       "      <td>0.013411</td>\n",
       "      <td>0.138649</td>\n",
       "      <td>0.009483</td>\n",
       "      <td>0.013411</td>\n",
       "      <td>0.009483</td>\n",
       "      <td>0.009483</td>\n",
       "      <td>0.035463</td>\n",
       "      <td>0.0</td>\n",
       "    </tr>\n",
       "    <tr>\n",
       "      <th>min</th>\n",
       "      <td>0.000000</td>\n",
       "      <td>0.000000e+00</td>\n",
       "      <td>0.000000</td>\n",
       "      <td>1.000000</td>\n",
       "      <td>1900.00000</td>\n",
       "      <td>1.000000</td>\n",
       "      <td>1.000000</td>\n",
       "      <td>1.000000</td>\n",
       "      <td>0.000000</td>\n",
       "      <td>0.000000</td>\n",
       "      <td>...</td>\n",
       "      <td>0.000000</td>\n",
       "      <td>0.000000</td>\n",
       "      <td>0.000000</td>\n",
       "      <td>0.000000</td>\n",
       "      <td>0.000000</td>\n",
       "      <td>0.000000</td>\n",
       "      <td>0.000000</td>\n",
       "      <td>0.000000</td>\n",
       "      <td>0.000000</td>\n",
       "      <td>0.0</td>\n",
       "    </tr>\n",
       "    <tr>\n",
       "      <th>25%</th>\n",
       "      <td>192.000000</td>\n",
       "      <td>1.040000e+02</td>\n",
       "      <td>9.000000</td>\n",
       "      <td>4.000000</td>\n",
       "      <td>1998.00000</td>\n",
       "      <td>1.000000</td>\n",
       "      <td>3.000000</td>\n",
       "      <td>1.000000</td>\n",
       "      <td>0.000000</td>\n",
       "      <td>0.000000</td>\n",
       "      <td>...</td>\n",
       "      <td>0.000000</td>\n",
       "      <td>0.000000</td>\n",
       "      <td>0.000000</td>\n",
       "      <td>0.000000</td>\n",
       "      <td>0.000000</td>\n",
       "      <td>0.000000</td>\n",
       "      <td>0.000000</td>\n",
       "      <td>0.000000</td>\n",
       "      <td>0.000000</td>\n",
       "      <td>0.0</td>\n",
       "    </tr>\n",
       "    <tr>\n",
       "      <th>50%</th>\n",
       "      <td>299.000000</td>\n",
       "      <td>7.450000e+02</td>\n",
       "      <td>47.000000</td>\n",
       "      <td>7.000000</td>\n",
       "      <td>2003.00000</td>\n",
       "      <td>1.000000</td>\n",
       "      <td>5.000000</td>\n",
       "      <td>1.000000</td>\n",
       "      <td>0.000000</td>\n",
       "      <td>0.000000</td>\n",
       "      <td>...</td>\n",
       "      <td>0.000000</td>\n",
       "      <td>0.000000</td>\n",
       "      <td>0.000000</td>\n",
       "      <td>0.000000</td>\n",
       "      <td>0.000000</td>\n",
       "      <td>0.000000</td>\n",
       "      <td>0.000000</td>\n",
       "      <td>0.000000</td>\n",
       "      <td>0.000000</td>\n",
       "      <td>0.0</td>\n",
       "    </tr>\n",
       "    <tr>\n",
       "      <th>75%</th>\n",
       "      <td>416.000000</td>\n",
       "      <td>5.000500e+03</td>\n",
       "      <td>238.000000</td>\n",
       "      <td>10.000000</td>\n",
       "      <td>2005.00000</td>\n",
       "      <td>1.000000</td>\n",
       "      <td>8.000000</td>\n",
       "      <td>2.000000</td>\n",
       "      <td>0.000000</td>\n",
       "      <td>0.000000</td>\n",
       "      <td>...</td>\n",
       "      <td>0.000000</td>\n",
       "      <td>0.000000</td>\n",
       "      <td>0.000000</td>\n",
       "      <td>0.000000</td>\n",
       "      <td>0.000000</td>\n",
       "      <td>0.000000</td>\n",
       "      <td>0.000000</td>\n",
       "      <td>0.000000</td>\n",
       "      <td>0.000000</td>\n",
       "      <td>0.0</td>\n",
       "    </tr>\n",
       "    <tr>\n",
       "      <th>max</th>\n",
       "      <td>6576.000000</td>\n",
       "      <td>4.597666e+06</td>\n",
       "      <td>94265.000000</td>\n",
       "      <td>12.000000</td>\n",
       "      <td>2020.00000</td>\n",
       "      <td>9.000000</td>\n",
       "      <td>49.000000</td>\n",
       "      <td>51.000000</td>\n",
       "      <td>1.000000</td>\n",
       "      <td>1.000000</td>\n",
       "      <td>...</td>\n",
       "      <td>1.000000</td>\n",
       "      <td>1.000000</td>\n",
       "      <td>1.000000</td>\n",
       "      <td>1.000000</td>\n",
       "      <td>1.000000</td>\n",
       "      <td>1.000000</td>\n",
       "      <td>1.000000</td>\n",
       "      <td>1.000000</td>\n",
       "      <td>1.000000</td>\n",
       "      <td>0.0</td>\n",
       "    </tr>\n",
       "  </tbody>\n",
       "</table>\n",
       "<p>8 rows × 1002 columns</p>\n",
       "</div>"
      ],
      "text/plain": [
       "          num_pages  ratings_count  text_reviews_count     pub_month  \\\n",
       "count  11119.000000   1.111900e+04        11119.000000  11119.000000   \n",
       "mean     336.340948   1.794827e+04          542.202806      6.548071   \n",
       "std      241.149105   1.125190e+05         2577.069155      3.413992   \n",
       "min        0.000000   0.000000e+00            0.000000      1.000000   \n",
       "25%      192.000000   1.040000e+02            9.000000      4.000000   \n",
       "50%      299.000000   7.450000e+02           47.000000      7.000000   \n",
       "75%      416.000000   5.000500e+03          238.000000     10.000000   \n",
       "max     6576.000000   4.597666e+06        94265.000000     12.000000   \n",
       "\n",
       "          pub_year     occ_count  title_word_count  author_count  \\\n",
       "count  11119.00000  11119.000000      11119.000000  11119.000000   \n",
       "mean    2000.16953      1.241389          6.291033      1.729652   \n",
       "std        8.24647      0.875200          4.168128      1.820397   \n",
       "min     1900.00000      1.000000          1.000000      1.000000   \n",
       "25%     1998.00000      1.000000          3.000000      1.000000   \n",
       "50%     2003.00000      1.000000          5.000000      1.000000   \n",
       "75%     2005.00000      1.000000          8.000000      2.000000   \n",
       "max     2020.00000      9.000000         49.000000     51.000000   \n",
       "\n",
       "       Stephen King  William Shakespeare  ...  language_code_nor  \\\n",
       "count  11119.000000         11119.000000  ...       11119.000000   \n",
       "mean       0.008904             0.008364  ...           0.000090   \n",
       "std        0.093943             0.091076  ...           0.009483   \n",
       "min        0.000000             0.000000  ...           0.000000   \n",
       "25%        0.000000             0.000000  ...           0.000000   \n",
       "50%        0.000000             0.000000  ...           0.000000   \n",
       "75%        0.000000             0.000000  ...           0.000000   \n",
       "max        1.000000             1.000000  ...           1.000000   \n",
       "\n",
       "       language_code_por  language_code_rus  language_code_spa  \\\n",
       "count       11119.000000       11119.000000       11119.000000   \n",
       "mean            0.000899           0.000180           0.019606   \n",
       "std             0.029977           0.013411           0.138649   \n",
       "min             0.000000           0.000000           0.000000   \n",
       "25%             0.000000           0.000000           0.000000   \n",
       "50%             0.000000           0.000000           0.000000   \n",
       "75%             0.000000           0.000000           0.000000   \n",
       "max             1.000000           1.000000           1.000000   \n",
       "\n",
       "       language_code_srp  language_code_swe  language_code_tur  \\\n",
       "count       11119.000000       11119.000000       11119.000000   \n",
       "mean            0.000090           0.000180           0.000090   \n",
       "std             0.009483           0.013411           0.009483   \n",
       "min             0.000000           0.000000           0.000000   \n",
       "25%             0.000000           0.000000           0.000000   \n",
       "50%             0.000000           0.000000           0.000000   \n",
       "75%             0.000000           0.000000           0.000000   \n",
       "max             1.000000           1.000000           1.000000   \n",
       "\n",
       "       language_code_wel  language_code_zho  language_code_nan  \n",
       "count       11119.000000       11119.000000            11119.0  \n",
       "mean            0.000090           0.001259                0.0  \n",
       "std             0.009483           0.035463                0.0  \n",
       "min             0.000000           0.000000                0.0  \n",
       "25%             0.000000           0.000000                0.0  \n",
       "50%             0.000000           0.000000                0.0  \n",
       "75%             0.000000           0.000000                0.0  \n",
       "max             1.000000           1.000000                0.0  \n",
       "\n",
       "[8 rows x 1002 columns]"
      ]
     },
     "execution_count": 7,
     "metadata": {},
     "output_type": "execute_result"
    }
   ],
   "source": [
    "books_df.describe()"
   ]
  },
  {
   "cell_type": "code",
   "execution_count": 8,
   "id": "d86e7d24",
   "metadata": {},
   "outputs": [],
   "source": [
    "\n",
    "book_df=StandardScaler().fit_transform(books_df)\n",
    "\n",
    "# Split the Data into 75% Training, 25% Testing\n",
    "X_train, X_test, y_train, y_test = train_test_split(books_df, label, test_size=0.25)\n",
    "k_fold = list(KFold(n_splits=5, shuffle=True).split(X_train, y_train))"
   ]
  },
  {
   "cell_type": "markdown",
   "id": "95c4e76a",
   "metadata": {},
   "source": [
    "### Parameter Tuning and Model Scoring Functions"
   ]
  },
  {
   "cell_type": "code",
   "execution_count": 9,
   "id": "dafc3cdc",
   "metadata": {},
   "outputs": [],
   "source": [
    "def grid_search_best_model(model, params, k_fold, X_train, y_train):\n",
    "    grid_search = GridSearchCV(model,\n",
    "                           params,                             \n",
    "                          cv=k_fold).fit(X_train,y_train)\n",
    "    print(\"Best params\", grid_search.best_params_)\n",
    "    print(\"Best estimator\", grid_search.best_estimator_)\n",
    "    print(\"Best score:\", grid_search.best_score_)\n",
    "    \n",
    "    return grid_search.best_estimator_\n",
    "\n",
    "model_results = {}\n",
    "\n",
    "def score_model(model,X_train, X_test, y_train, y_test,\n",
    "               show_plot=True):   \n",
    "    y_pred = model.predict(X_test)  \n",
    "    print(f\"Training score: {model.score(X_train,y_train)}\")\n",
    "    print(f\"Test score: {r2_score(y_test, y_pred)}\")\n",
    "    print(\"MSE: \", mean_squared_error(y_test, y_pred))\n",
    "    \n",
    "    predictions_comparision = pd.DataFrame({'Actual': y_test.tolist(), 'Predicted': y_pred.tolist()}).sample(25)\n",
    "    if show_plot == True:\n",
    "        predictions_comparision.plot(kind=\"bar\", figsize=(12,8),title=\"Actual vs predicted values\")\n",
    "    print(predictions_comparision.sample(10))    \n",
    "    \n",
    "    \n",
    "    return {\n",
    "        \"training_score\": model.score(X_train,y_train),\n",
    "        \"test_score_r2\" : r2_score(y_test, y_pred),\n",
    "        \"test_score_mse\" : mean_squared_error(y_test, y_pred)\n",
    "    }\n",
    "\n",
    "def compare_results():\n",
    "    for key in model_results:\n",
    "        print(\"Regression: \", key)\n",
    "        print(\"Trainign score\", model_results[key][\"training_score\"])\n",
    "        print(\"R2 Test score \", model_results[key][\"test_score_r2\"])\n",
    "        print(\"MSE Test score \", model_results[key][\"test_score_mse\"])\n",
    "        print()"
   ]
  },
  {
   "cell_type": "code",
   "execution_count": 10,
   "id": "fc71c4bb",
   "metadata": {},
   "outputs": [
    {
     "name": "stdout",
     "output_type": "stream",
     "text": [
      "Best params {'fit_intercept': True}\n",
      "Best estimator LinearRegression()\n",
      "Best score: -1265296570445.6553\n",
      "Training score: 0.2559292553033137\n",
      "Test score: 0.0717080519247385\n",
      "MSE:  0.12312346777174628\n",
      "      Actual  Predicted\n",
      "2532    3.50   4.186090\n",
      "2074    3.68   3.436895\n",
      "1481    3.99   3.896993\n",
      "473     3.67   3.876641\n",
      "372     4.29   4.086731\n",
      "560     3.65   3.960246\n",
      "1757    3.83   4.103146\n",
      "1027    3.56   3.877394\n",
      "1207    3.80   3.894906\n",
      "1608    3.95   3.986218\n"
     ]
    },
    {
     "data": {
      "image/png": "[encoded data removed]",
      "text/plain": [
       "<Figure size 1200x800 with 1 Axes>"
      ]
     },
     "metadata": {},
     "output_type": "display_data"
    }
   ],
   "source": [
    "params={\n",
    "    \"fit_intercept\":[True,False],\n",
    "}\n",
    "\n",
    "linear_regression = grid_search_best_model(LinearRegression(), params, k_fold, X_train, y_train)\n",
    "model_results[\"linear_regression\"] = score_model(linear_regression, X_train, X_test, y_train, y_test)"
   ]
  },
  {
   "cell_type": "code",
   "execution_count": 11,
   "id": "05b4511b",
   "metadata": {},
   "outputs": [
    {
     "name": "stdout",
     "output_type": "stream",
     "text": [
      "Best params {'max_depth': 6, 'max_leaf_nodes': 20, 'min_samples_leaf': 30, 'min_samples_split': 40}\n",
      "Best estimator DecisionTreeRegressor(max_depth=6, max_leaf_nodes=20, min_samples_leaf=30,\n",
      "                      min_samples_split=40)\n",
      "Best score: 0.11904655437379519\n",
      "Training score: 0.16199767292621425\n",
      "Test score: 0.18081427987004195\n",
      "MSE:  0.10865222608105433\n",
      "      Actual  Predicted\n",
      "291     3.56   4.165271\n",
      "1213    3.83   3.804873\n",
      "1676    4.17   3.994667\n",
      "1807    3.90   4.220246\n",
      "1821    3.96   3.981568\n",
      "1257    3.76   3.856699\n",
      "965     4.21   3.972708\n",
      "2621    4.10   4.047048\n",
      "1510    3.97   3.981568\n",
      "2109    3.71   4.128119\n"
     ]
    },
    {
     "data": {
      "image/png": "[encoded data removed]",
      "text/plain": [
       "<Figure size 1200x800 with 1 Axes>"
      ]
     },
     "metadata": {},
     "output_type": "display_data"
    }
   ],
   "source": [
    "params = {    \"min_samples_split\": [10, 20, 40],\n",
    "              \"max_depth\": [2, 6, 8, 15, 50],\n",
    "              \"min_samples_leaf\": [5, 20, 30],\n",
    "              \"max_leaf_nodes\": [5, 20],\n",
    "              }\n",
    "dtr = grid_search_best_model(DecisionTreeRegressor(), params, k_fold, X_train, y_train)\n",
    "model_results[\"dtr\"] = score_model(dtr, X_train, X_test, y_train, y_test)"
   ]
  },
  {
   "cell_type": "code",
   "execution_count": 12,
   "id": "84b837df",
   "metadata": {},
   "outputs": [
    {
     "name": "stdout",
     "output_type": "stream",
     "text": [
      "Best params {'learning_rate': 0.5, 'n_estimators': 700}\n",
      "Best estimator AdaBoostRegressor(learning_rate=0.5, n_estimators=700)\n",
      "Best score: 0.04594304550194328\n",
      "Training score: 0.14234693599865555\n",
      "Test score: 0.1773703718579941\n",
      "MSE:  0.10910900683629994\n",
      "      Actual  Predicted\n",
      "1361    4.12   3.914303\n",
      "2023    3.65   3.897302\n",
      "623     3.98   3.914303\n",
      "1769    3.55   3.877394\n",
      "1254    3.41   3.897302\n",
      "2305    3.51   3.877394\n",
      "2140    4.08   3.910241\n",
      "2246    3.40   3.910241\n",
      "2420    3.33   3.877394\n",
      "2672    3.32   3.877394\n"
     ]
    },
    {
     "data": {
      "image/png": "[encoded data removed]",
      "text/plain": [
       "<Figure size 1200x800 with 1 Axes>"
      ]
     },
     "metadata": {},
     "output_type": "display_data"
    }
   ],
   "source": [
    "params = {\"learning_rate\":[0.3, 0.5,1],\n",
    "          \"n_estimators\": [50, 100,200,400,700,1000]\n",
    "              }\n",
    "abr = grid_search_best_model(AdaBoostRegressor(), params, k_fold, X_train, y_train)\n",
    "model_results[\"abr\"] = score_model(abr, X_train, X_test, y_train, y_test)"
   ]
  },
  {
   "cell_type": "code",
   "execution_count": 13,
   "id": "ab6457b4",
   "metadata": {},
   "outputs": [
    {
     "name": "stdout",
     "output_type": "stream",
     "text": [
      "Best params {'learning_rate': 0.3, 'max_depth': 3, 'max_features': 0.3, 'min_samples_leaf': 5, 'n_estimators': 100}\n",
      "Best estimator GradientBoostingRegressor(learning_rate=0.3, max_features=0.3,\n",
      "                          min_samples_leaf=5)\n",
      "Best score: 0.20425815694722366\n",
      "Training score: 0.34242056835948165\n",
      "Test score: 0.2440110609736179\n",
      "MSE:  0.10027015742515623\n",
      "      Actual  Predicted\n",
      "1248    4.00   3.822207\n",
      "1412    4.22   4.055299\n",
      "312     4.03   4.002833\n",
      "1516    3.68   3.915849\n",
      "1366    3.84   4.005607\n",
      "2672    3.32   3.832445\n",
      "1779    4.11   3.853322\n",
      "110     2.80   3.742709\n",
      "1871    3.97   3.922778\n",
      "1472    4.16   3.940990\n"
     ]
    },
    {
     "data": {
      "image/png": "[encoded data removed]",
      "text/plain": [
       "<Figure size 1200x800 with 1 Axes>"
      ]
     },
     "metadata": {},
     "output_type": "display_data"
    }
   ],
   "source": [
    "params={\"n_estimators\":[20, 50, 100,200], \n",
    "        \"learning_rate\": [0.01, 0.05, 0.1, 0.3],\n",
    "         \"max_depth\":[3,5,10], \n",
    "        \"min_samples_leaf\": [3,5],\n",
    "          \"max_features\": [0.3, 1]\n",
    "       }        \n",
    "\n",
    "gbr = grid_search_best_model(GradientBoostingRegressor(), params,k_fold, X_train, y_train)\n",
    "model_results[\"gbr\"] = score_model(gbr, X_train, X_test, y_train, y_test)"
   ]
  },
  {
   "cell_type": "code",
   "execution_count": 14,
   "id": "2f3b04c1",
   "metadata": {},
   "outputs": [
    {
     "name": "stdout",
     "output_type": "stream",
     "text": [
      "Regression:  linear_regression\n",
      "Trainign score 0.2559292553033137\n",
      "R2 Test score  0.0717080519247385\n",
      "MSE Test score  0.12312346777174628\n",
      "\n",
      "Regression:  dtr\n",
      "Trainign score 0.16199767292621425\n",
      "R2 Test score  0.18081427987004195\n",
      "MSE Test score  0.10865222608105433\n",
      "\n",
      "Regression:  abr\n",
      "Trainign score 0.14234693599865555\n",
      "R2 Test score  0.1773703718579941\n",
      "MSE Test score  0.10910900683629994\n",
      "\n",
      "Regression:  gbr\n",
      "Trainign score 0.34242056835948165\n",
      "R2 Test score  0.2440110609736179\n",
      "MSE Test score  0.10027015742515623\n",
      "\n"
     ]
    }
   ],
   "source": [
    "compare_results()"
   ]
  },
  {
   "cell_type": "markdown",
   "id": "8af9b2bd",
   "metadata": {},
   "source": [
    "From the output of compare_results() we find that the GradientBoostingRegressor performed best with an R2 score of 24.4% and had a training score of 34.24%."
   ]
  },
  {
   "cell_type": "code",
   "execution_count": null,
   "id": "15db54cc",
   "metadata": {},
   "outputs": [],
   "source": []
  }
 ],
 "metadata": {
  "kernelspec": {
   "display_name": "Python 3 (ipykernel)",
   "language": "python",
   "name": "python3"
  },
  "language_info": {
   "codemirror_mode": {
    "name": "ipython",
    "version": 3
   },
   "file_extension": ".py",
   "mimetype": "text/x-python",
   "name": "python",
   "nbconvert_exporter": "python",
   "pygments_lexer": "ipython3",
   "version": "3.9.13"
  }
 },
 "nbformat": 4,
 "nbformat_minor": 5
}
